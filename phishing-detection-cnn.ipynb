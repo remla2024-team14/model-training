{
 "cells": [
  {
   "cell_type": "markdown",
   "id": "8d5a1e55",
   "metadata": {
    "papermill": {
     "duration": 0.00568,
     "end_time": "2024-04-21T14:43:43.509109",
     "exception": false,
     "start_time": "2024-04-21T14:43:43.503429",
     "status": "completed"
    },
    "tags": []
   },
   "source": [
    "**Importing the Libraries**"
   ]
  },
  {
   "cell_type": "code",
   "execution_count": 1,
   "id": "c268ee79",
   "metadata": {
    "execution": {
     "iopub.execute_input": "2024-04-21T14:43:43.521577Z",
     "iopub.status.busy": "2024-04-21T14:43:43.520488Z",
     "iopub.status.idle": "2024-04-21T14:43:59.249180Z",
     "shell.execute_reply": "2024-04-21T14:43:59.248138Z"
    },
    "papermill": {
     "duration": 15.737232,
     "end_time": "2024-04-21T14:43:59.251616",
     "exception": false,
     "start_time": "2024-04-21T14:43:43.514384",
     "status": "completed"
    },
    "tags": []
   },
   "outputs": [
    {
     "name": "stderr",
     "output_type": "stream",
     "text": [
      "2024-04-21 14:43:47.084104: E external/local_xla/xla/stream_executor/cuda/cuda_dnn.cc:9261] Unable to register cuDNN factory: Attempting to register factory for plugin cuDNN when one has already been registered\n",
      "2024-04-21 14:43:47.084258: E external/local_xla/xla/stream_executor/cuda/cuda_fft.cc:607] Unable to register cuFFT factory: Attempting to register factory for plugin cuFFT when one has already been registered\n",
      "2024-04-21 14:43:47.245847: E external/local_xla/xla/stream_executor/cuda/cuda_blas.cc:1515] Unable to register cuBLAS factory: Attempting to register factory for plugin cuBLAS when one has already been registered\n"
     ]
    }
   ],
   "source": [
    "from sklearn.preprocessing import LabelEncoder\n",
    "from tensorflow.keras.preprocessing.text import Tokenizer\n",
    "import numpy as np\n",
    "import pandas as pd\n",
    "from tensorflow.keras.preprocessing.sequence import pad_sequences\n",
    "import matplotlib.pyplot as plt\n",
    "from keras.models import Sequential\n",
    "from keras.layers import Dense, Dropout, Embedding, Conv1D, MaxPooling1D, Flatten\n",
    "from keras.preprocessing.sequence import pad_sequences\n",
    "from sklearn.preprocessing import LabelEncoder\n",
    "from sklearn.metrics import classification_report, confusion_matrix"
   ]
  },
  {
   "cell_type": "markdown",
   "id": "507c87ab",
   "metadata": {
    "papermill": {
     "duration": 0.004955,
     "end_time": "2024-04-21T14:43:59.262295",
     "exception": false,
     "start_time": "2024-04-21T14:43:59.257340",
     "status": "completed"
    },
    "tags": []
   },
   "source": [
    "**Loading the Dataset**"
   ]
  },
  {
   "cell_type": "code",
   "execution_count": 2,
   "id": "79ee8de8",
   "metadata": {
    "execution": {
     "iopub.execute_input": "2024-04-21T14:43:59.273734Z",
     "iopub.status.busy": "2024-04-21T14:43:59.273193Z",
     "iopub.status.idle": "2024-04-21T14:44:03.932153Z",
     "shell.execute_reply": "2024-04-21T14:44:03.931335Z"
    },
    "papermill": {
     "duration": 4.667526,
     "end_time": "2024-04-21T14:44:03.934756",
     "exception": false,
     "start_time": "2024-04-21T14:43:59.267230",
     "status": "completed"
    },
    "tags": []
   },
   "outputs": [],
   "source": [
    "train = [line.strip() for line in open(\"/kaggle/input/dl-dataset/DL Dataset/train.txt\", \"r\").readlines()[1:]]\n",
    "raw_x_train = [line.split(\"\\t\")[1] for line in train]\n",
    "raw_y_train = [line.split(\"\\t\")[0] for line in train]\n",
    "\n",
    "test = [line.strip() for line in open(\"/kaggle/input/dl-dataset/DL Dataset/test.txt\", \"r\").readlines()]\n",
    "raw_x_test = [line.split(\"\\t\")[1] for line in test]\n",
    "raw_y_test = [line.split(\"\\t\")[0] for line in test]\n",
    "\n",
    "val=[line.strip() for line in open(\"/kaggle/input/dl-dataset/DL Dataset/val.txt\", \"r\").readlines()]\n",
    "raw_x_val=[line.split(\"\\t\")[1] for line in val]\n",
    "raw_y_val=[line.split(\"\\t\")[0] for line in val]\n"
   ]
  },
  {
   "cell_type": "markdown",
   "id": "82324ac7",
   "metadata": {
    "papermill": {
     "duration": 0.005361,
     "end_time": "2024-04-21T14:44:03.945719",
     "exception": false,
     "start_time": "2024-04-21T14:44:03.940358",
     "status": "completed"
    },
    "tags": []
   },
   "source": [
    "**Tokenizing the Dataset**"
   ]
  },
  {
   "cell_type": "code",
   "execution_count": 3,
   "id": "58a79066",
   "metadata": {
    "execution": {
     "iopub.execute_input": "2024-04-21T14:44:03.957724Z",
     "iopub.status.busy": "2024-04-21T14:44:03.957387Z",
     "iopub.status.idle": "2024-04-21T14:46:09.527178Z",
     "shell.execute_reply": "2024-04-21T14:46:09.526154Z"
    },
    "papermill": {
     "duration": 125.578991,
     "end_time": "2024-04-21T14:46:09.529901",
     "exception": false,
     "start_time": "2024-04-21T14:44:03.950910",
     "status": "completed"
    },
    "tags": []
   },
   "outputs": [],
   "source": [
    "tokenizer = Tokenizer(lower=True, char_level=True, oov_token='-n-')\n",
    "tokenizer.fit_on_texts(raw_x_train + raw_x_val + raw_x_test)\n",
    "char_index = tokenizer.word_index\n",
    "sequence_length=200\n",
    "x_train = pad_sequences(tokenizer.texts_to_sequences(raw_x_train), maxlen=sequence_length)\n",
    "x_val = pad_sequences(tokenizer.texts_to_sequences(raw_x_val), maxlen=sequence_length)\n",
    "x_test = pad_sequences(tokenizer.texts_to_sequences(raw_x_test), maxlen=sequence_length)\n",
    "\n",
    "encoder = LabelEncoder()\n",
    "\n",
    "y_train = encoder.fit_transform(raw_y_train)\n",
    "y_val = encoder.transform(raw_y_val)\n",
    "y_test = encoder.transform(raw_y_test)"
   ]
  },
  {
   "cell_type": "markdown",
   "id": "a7b57be6",
   "metadata": {
    "papermill": {
     "duration": 0.004705,
     "end_time": "2024-04-21T14:46:09.540169",
     "exception": false,
     "start_time": "2024-04-21T14:46:09.535464",
     "status": "completed"
    },
    "tags": []
   },
   "source": [
    "**Parameters**"
   ]
  },
  {
   "cell_type": "code",
   "execution_count": 4,
   "id": "d5608e60",
   "metadata": {
    "execution": {
     "iopub.execute_input": "2024-04-21T14:46:09.552234Z",
     "iopub.status.busy": "2024-04-21T14:46:09.551408Z",
     "iopub.status.idle": "2024-04-21T14:46:09.556629Z",
     "shell.execute_reply": "2024-04-21T14:46:09.555728Z"
    },
    "papermill": {
     "duration": 0.013347,
     "end_time": "2024-04-21T14:46:09.558609",
     "exception": false,
     "start_time": "2024-04-21T14:46:09.545262",
     "status": "completed"
    },
    "tags": []
   },
   "outputs": [],
   "source": [
    "params = {'loss_function': 'binary_crossentropy',\n",
    "                       'optimizer': 'adam',\n",
    "                       'sequence_length': 200,\n",
    "                       'batch_train': 5000,\n",
    "                       'batch_test': 5000,\n",
    "                       'categories': ['phishing', 'legitimate'],\n",
    "                       'char_index': None,\n",
    "                       'epoch': 30,\n",
    "                       'embedding_dimension': 50,\n",
    "                       'dataset_dir': \"../dataset/small_dataset/\"}"
   ]
  },
  {
   "cell_type": "markdown",
   "id": "dffa5bee",
   "metadata": {
    "papermill": {
     "duration": 0.005349,
     "end_time": "2024-04-21T14:46:09.569607",
     "exception": false,
     "start_time": "2024-04-21T14:46:09.564258",
     "status": "completed"
    },
    "tags": []
   },
   "source": [
    "**Model Definition**"
   ]
  },
  {
   "cell_type": "code",
   "execution_count": 5,
   "id": "c95e9f36",
   "metadata": {
    "execution": {
     "iopub.execute_input": "2024-04-21T14:46:09.581650Z",
     "iopub.status.busy": "2024-04-21T14:46:09.581353Z",
     "iopub.status.idle": "2024-04-21T14:46:10.478457Z",
     "shell.execute_reply": "2024-04-21T14:46:10.477674Z"
    },
    "papermill": {
     "duration": 0.905689,
     "end_time": "2024-04-21T14:46:10.480797",
     "exception": false,
     "start_time": "2024-04-21T14:46:09.575108",
     "status": "completed"
    },
    "tags": []
   },
   "outputs": [
    {
     "name": "stdout",
     "output_type": "stream",
     "text": [
      "voc_size: 71\n"
     ]
    }
   ],
   "source": [
    "from keras.models import Sequential\n",
    "from keras.layers import Embedding, Conv1D, MaxPooling1D, Flatten, Dense\n",
    "model = Sequential()\n",
    "voc_size = len(char_index.keys())\n",
    "print(\"voc_size: {}\".format(voc_size))\n",
    "model.add(Embedding(voc_size + 1, 50))\n",
    "\n",
    "model.add(Conv1D(128, 3, activation='tanh'))\n",
    "model.add(MaxPooling1D(3))\n",
    "model.add(Dropout(0.2))\n",
    "\n",
    "model.add(Conv1D(128, 7, activation='tanh', padding='same'))\n",
    "model.add(Dropout(0.2))\n",
    "\n",
    "model.add(Conv1D(128, 5, activation='tanh', padding='same'))\n",
    "model.add(Dropout(0.2))\n",
    "\n",
    "model.add(Conv1D(128, 3, activation='tanh', padding='same'))\n",
    "model.add(MaxPooling1D(3))\n",
    "model.add(Dropout(0.2))\n",
    "\n",
    "model.add(Conv1D(128, 5, activation='tanh', padding='same'))\n",
    "model.add(Dropout(0.2))\n",
    "\n",
    "model.add(Conv1D(128, 3, activation='tanh', padding='same'))\n",
    "model.add(MaxPooling1D(3))\n",
    "model.add(Dropout(0.2))\n",
    "\n",
    "model.add(Conv1D(128, 3, activation='tanh', padding='same'))\n",
    "model.add(MaxPooling1D(3))\n",
    "model.add(Dropout(0.2))\n",
    "\n",
    "model.add(Flatten())\n",
    "\n",
    "model.add(Dense(len(params['categories'])-1, activation='sigmoid'))\n",
    "\n"
   ]
  },
  {
   "cell_type": "markdown",
   "id": "921be17d",
   "metadata": {
    "papermill": {
     "duration": 0.005019,
     "end_time": "2024-04-21T14:46:10.492617",
     "exception": false,
     "start_time": "2024-04-21T14:46:10.487598",
     "status": "completed"
    },
    "tags": []
   },
   "source": [
    "**Training**"
   ]
  },
  {
   "cell_type": "code",
   "execution_count": 6,
   "id": "878a8d48",
   "metadata": {
    "execution": {
     "iopub.execute_input": "2024-04-21T14:46:10.504131Z",
     "iopub.status.busy": "2024-04-21T14:46:10.503800Z",
     "iopub.status.idle": "2024-04-21T15:27:58.376526Z",
     "shell.execute_reply": "2024-04-21T15:27:58.375692Z"
    },
    "papermill": {
     "duration": 2507.881609,
     "end_time": "2024-04-21T15:27:58.379161",
     "exception": false,
     "start_time": "2024-04-21T14:46:10.497552",
     "status": "completed"
    },
    "tags": []
   },
   "outputs": [
    {
     "name": "stdout",
     "output_type": "stream",
     "text": [
      "Epoch 1/30\n"
     ]
    },
    {
     "name": "stderr",
     "output_type": "stream",
     "text": [
      "WARNING: All log messages before absl::InitializeLog() is called are written to STDERR\n",
      "I0000 00:00:1713710834.931505      75 device_compiler.h:186] Compiled cluster using XLA!  This line is logged at most once for the lifetime of the process.\n"
     ]
    },
    {
     "name": "stdout",
     "output_type": "stream",
     "text": [
      "\u001b[1m210/210\u001b[0m \u001b[32m━━━━━━━━━━━━━━━━━━━━\u001b[0m\u001b[37m\u001b[0m \u001b[1m165s\u001b[0m 486ms/step - accuracy: 0.7836 - loss: 0.4078 - val_accuracy: 0.9470 - val_loss: 0.1320\n",
      "Epoch 2/30\n",
      "\u001b[1m210/210\u001b[0m \u001b[32m━━━━━━━━━━━━━━━━━━━━\u001b[0m\u001b[37m\u001b[0m \u001b[1m81s\u001b[0m 384ms/step - accuracy: 0.9445 - loss: 0.1399 - val_accuracy: 0.9589 - val_loss: 0.1068\n",
      "Epoch 3/30\n",
      "\u001b[1m210/210\u001b[0m \u001b[32m━━━━━━━━━━━━━━━━━━━━\u001b[0m\u001b[37m\u001b[0m \u001b[1m82s\u001b[0m 384ms/step - accuracy: 0.9548 - loss: 0.1138 - val_accuracy: 0.9634 - val_loss: 0.0951\n",
      "Epoch 4/30\n",
      "\u001b[1m210/210\u001b[0m \u001b[32m━━━━━━━━━━━━━━━━━━━━\u001b[0m\u001b[37m\u001b[0m \u001b[1m81s\u001b[0m 384ms/step - accuracy: 0.9606 - loss: 0.0991 - val_accuracy: 0.9622 - val_loss: 0.0986\n",
      "Epoch 5/30\n",
      "\u001b[1m210/210\u001b[0m \u001b[32m━━━━━━━━━━━━━━━━━━━━\u001b[0m\u001b[37m\u001b[0m \u001b[1m81s\u001b[0m 384ms/step - accuracy: 0.9625 - loss: 0.0949 - val_accuracy: 0.9702 - val_loss: 0.0769\n",
      "Epoch 6/30\n",
      "\u001b[1m210/210\u001b[0m \u001b[32m━━━━━━━━━━━━━━━━━━━━\u001b[0m\u001b[37m\u001b[0m \u001b[1m81s\u001b[0m 384ms/step - accuracy: 0.9656 - loss: 0.0876 - val_accuracy: 0.9654 - val_loss: 0.0901\n",
      "Epoch 7/30\n",
      "\u001b[1m210/210\u001b[0m \u001b[32m━━━━━━━━━━━━━━━━━━━━\u001b[0m\u001b[37m\u001b[0m \u001b[1m81s\u001b[0m 384ms/step - accuracy: 0.9670 - loss: 0.0841 - val_accuracy: 0.9729 - val_loss: 0.0697\n",
      "Epoch 8/30\n",
      "\u001b[1m210/210\u001b[0m \u001b[32m━━━━━━━━━━━━━━━━━━━━\u001b[0m\u001b[37m\u001b[0m \u001b[1m81s\u001b[0m 384ms/step - accuracy: 0.9683 - loss: 0.0802 - val_accuracy: 0.9734 - val_loss: 0.0695\n",
      "Epoch 9/30\n",
      "\u001b[1m210/210\u001b[0m \u001b[32m━━━━━━━━━━━━━━━━━━━━\u001b[0m\u001b[37m\u001b[0m \u001b[1m81s\u001b[0m 384ms/step - accuracy: 0.9699 - loss: 0.0772 - val_accuracy: 0.9737 - val_loss: 0.0690\n",
      "Epoch 10/30\n",
      "\u001b[1m210/210\u001b[0m \u001b[32m━━━━━━━━━━━━━━━━━━━━\u001b[0m\u001b[37m\u001b[0m \u001b[1m81s\u001b[0m 384ms/step - accuracy: 0.9706 - loss: 0.0748 - val_accuracy: 0.9750 - val_loss: 0.0649\n",
      "Epoch 11/30\n",
      "\u001b[1m210/210\u001b[0m \u001b[32m━━━━━━━━━━━━━━━━━━━━\u001b[0m\u001b[37m\u001b[0m \u001b[1m81s\u001b[0m 384ms/step - accuracy: 0.9707 - loss: 0.0746 - val_accuracy: 0.9703 - val_loss: 0.0786\n",
      "Epoch 12/30\n",
      "\u001b[1m210/210\u001b[0m \u001b[32m━━━━━━━━━━━━━━━━━━━━\u001b[0m\u001b[37m\u001b[0m \u001b[1m81s\u001b[0m 384ms/step - accuracy: 0.9716 - loss: 0.0718 - val_accuracy: 0.9763 - val_loss: 0.0616\n",
      "Epoch 13/30\n",
      "\u001b[1m210/210\u001b[0m \u001b[32m━━━━━━━━━━━━━━━━━━━━\u001b[0m\u001b[37m\u001b[0m \u001b[1m81s\u001b[0m 384ms/step - accuracy: 0.9731 - loss: 0.0686 - val_accuracy: 0.9681 - val_loss: 0.0885\n",
      "Epoch 14/30\n",
      "\u001b[1m210/210\u001b[0m \u001b[32m━━━━━━━━━━━━━━━━━━━━\u001b[0m\u001b[37m\u001b[0m \u001b[1m81s\u001b[0m 384ms/step - accuracy: 0.9736 - loss: 0.0675 - val_accuracy: 0.9741 - val_loss: 0.0689\n",
      "Epoch 15/30\n",
      "\u001b[1m210/210\u001b[0m \u001b[32m━━━━━━━━━━━━━━━━━━━━\u001b[0m\u001b[37m\u001b[0m \u001b[1m81s\u001b[0m 384ms/step - accuracy: 0.9743 - loss: 0.0660 - val_accuracy: 0.9706 - val_loss: 0.0778\n",
      "Epoch 16/30\n",
      "\u001b[1m210/210\u001b[0m \u001b[32m━━━━━━━━━━━━━━━━━━━━\u001b[0m\u001b[37m\u001b[0m \u001b[1m81s\u001b[0m 384ms/step - accuracy: 0.9742 - loss: 0.0666 - val_accuracy: 0.9771 - val_loss: 0.0597\n",
      "Epoch 17/30\n",
      "\u001b[1m210/210\u001b[0m \u001b[32m━━━━━━━━━━━━━━━━━━━━\u001b[0m\u001b[37m\u001b[0m \u001b[1m81s\u001b[0m 384ms/step - accuracy: 0.9751 - loss: 0.0640 - val_accuracy: 0.9781 - val_loss: 0.0583\n",
      "Epoch 18/30\n",
      "\u001b[1m210/210\u001b[0m \u001b[32m━━━━━━━━━━━━━━━━━━━━\u001b[0m\u001b[37m\u001b[0m \u001b[1m81s\u001b[0m 384ms/step - accuracy: 0.9754 - loss: 0.0633 - val_accuracy: 0.9784 - val_loss: 0.0571\n",
      "Epoch 19/30\n",
      "\u001b[1m210/210\u001b[0m \u001b[32m━━━━━━━━━━━━━━━━━━━━\u001b[0m\u001b[37m\u001b[0m \u001b[1m81s\u001b[0m 384ms/step - accuracy: 0.9760 - loss: 0.0613 - val_accuracy: 0.9785 - val_loss: 0.0574\n",
      "Epoch 20/30\n",
      "\u001b[1m210/210\u001b[0m \u001b[32m━━━━━━━━━━━━━━━━━━━━\u001b[0m\u001b[37m\u001b[0m \u001b[1m82s\u001b[0m 384ms/step - accuracy: 0.9760 - loss: 0.0619 - val_accuracy: 0.9754 - val_loss: 0.0661\n",
      "Epoch 21/30\n",
      "\u001b[1m210/210\u001b[0m \u001b[32m━━━━━━━━━━━━━━━━━━━━\u001b[0m\u001b[37m\u001b[0m \u001b[1m81s\u001b[0m 384ms/step - accuracy: 0.9765 - loss: 0.0607 - val_accuracy: 0.9783 - val_loss: 0.0569\n",
      "Epoch 22/30\n",
      "\u001b[1m210/210\u001b[0m \u001b[32m━━━━━━━━━━━━━━━━━━━━\u001b[0m\u001b[37m\u001b[0m \u001b[1m81s\u001b[0m 384ms/step - accuracy: 0.9767 - loss: 0.0602 - val_accuracy: 0.9773 - val_loss: 0.0607\n",
      "Epoch 23/30\n",
      "\u001b[1m210/210\u001b[0m \u001b[32m━━━━━━━━━━━━━━━━━━━━\u001b[0m\u001b[37m\u001b[0m \u001b[1m81s\u001b[0m 384ms/step - accuracy: 0.9768 - loss: 0.0593 - val_accuracy: 0.9753 - val_loss: 0.0672\n",
      "Epoch 24/30\n",
      "\u001b[1m210/210\u001b[0m \u001b[32m━━━━━━━━━━━━━━━━━━━━\u001b[0m\u001b[37m\u001b[0m \u001b[1m81s\u001b[0m 384ms/step - accuracy: 0.9773 - loss: 0.0587 - val_accuracy: 0.9796 - val_loss: 0.0546\n",
      "Epoch 25/30\n",
      "\u001b[1m210/210\u001b[0m \u001b[32m━━━━━━━━━━━━━━━━━━━━\u001b[0m\u001b[37m\u001b[0m \u001b[1m81s\u001b[0m 384ms/step - accuracy: 0.9777 - loss: 0.0573 - val_accuracy: 0.9782 - val_loss: 0.0588\n",
      "Epoch 26/30\n",
      "\u001b[1m210/210\u001b[0m \u001b[32m━━━━━━━━━━━━━━━━━━━━\u001b[0m\u001b[37m\u001b[0m \u001b[1m81s\u001b[0m 384ms/step - accuracy: 0.9780 - loss: 0.0571 - val_accuracy: 0.9773 - val_loss: 0.0603\n",
      "Epoch 27/30\n",
      "\u001b[1m210/210\u001b[0m \u001b[32m━━━━━━━━━━━━━━━━━━━━\u001b[0m\u001b[37m\u001b[0m \u001b[1m81s\u001b[0m 384ms/step - accuracy: 0.9783 - loss: 0.0564 - val_accuracy: 0.9800 - val_loss: 0.0528\n",
      "Epoch 28/30\n",
      "\u001b[1m210/210\u001b[0m \u001b[32m━━━━━━━━━━━━━━━━━━━━\u001b[0m\u001b[37m\u001b[0m \u001b[1m81s\u001b[0m 384ms/step - accuracy: 0.9782 - loss: 0.0564 - val_accuracy: 0.9794 - val_loss: 0.0550\n",
      "Epoch 29/30\n",
      "\u001b[1m210/210\u001b[0m \u001b[32m━━━━━━━━━━━━━━━━━━━━\u001b[0m\u001b[37m\u001b[0m \u001b[1m81s\u001b[0m 384ms/step - accuracy: 0.9783 - loss: 0.0560 - val_accuracy: 0.9781 - val_loss: 0.0597\n",
      "Epoch 30/30\n",
      "\u001b[1m210/210\u001b[0m \u001b[32m━━━━━━━━━━━━━━━━━━━━\u001b[0m\u001b[37m\u001b[0m \u001b[1m81s\u001b[0m 384ms/step - accuracy: 0.9787 - loss: 0.0546 - val_accuracy: 0.9797 - val_loss: 0.0544\n"
     ]
    }
   ],
   "source": [
    "model.compile(loss=params['loss_function'], optimizer=params['optimizer'], metrics=['accuracy'])\n",
    "\n",
    "\n",
    "hist = model.fit(x_train, y_train,\n",
    "                batch_size=params['batch_train'],\n",
    "                epochs=params['epoch'],\n",
    "                shuffle=True,\n",
    "                validation_data=(x_val, y_val)\n",
    "                )\n"
   ]
  },
  {
   "cell_type": "markdown",
   "id": "9aa895fe",
   "metadata": {
    "papermill": {
     "duration": 0.547674,
     "end_time": "2024-04-21T15:27:59.465088",
     "exception": false,
     "start_time": "2024-04-21T15:27:58.917414",
     "status": "completed"
    },
    "tags": []
   },
   "source": [
    "**Summary**"
   ]
  },
  {
   "cell_type": "code",
   "execution_count": 7,
   "id": "25d5f551",
   "metadata": {
    "execution": {
     "iopub.execute_input": "2024-04-21T15:28:00.612202Z",
     "iopub.status.busy": "2024-04-21T15:28:00.611424Z",
     "iopub.status.idle": "2024-04-21T15:28:00.650306Z",
     "shell.execute_reply": "2024-04-21T15:28:00.649294Z"
    },
    "papermill": {
     "duration": 0.587926,
     "end_time": "2024-04-21T15:28:00.652421",
     "exception": false,
     "start_time": "2024-04-21T15:28:00.064495",
     "status": "completed"
    },
    "tags": []
   },
   "outputs": [
    {
     "data": {
      "text/html": [
       "<pre style=\"white-space:pre;overflow-x:auto;line-height:normal;font-family:Menlo,'DejaVu Sans Mono',consolas,'Courier New',monospace\"><span style=\"font-weight: bold\">Model: \"sequential\"</span>\n",
       "</pre>\n"
      ],
      "text/plain": [
       "\u001b[1mModel: \"sequential\"\u001b[0m\n"
      ]
     },
     "metadata": {},
     "output_type": "display_data"
    },
    {
     "data": {
      "text/html": [
       "<pre style=\"white-space:pre;overflow-x:auto;line-height:normal;font-family:Menlo,'DejaVu Sans Mono',consolas,'Courier New',monospace\">┏━━━━━━━━━━━━━━━━━━━━━━━━━━━━━━━━━┳━━━━━━━━━━━━━━━━━━━━━━━━┳━━━━━━━━━━━━━━━┓\n",
       "┃<span style=\"font-weight: bold\"> Layer (type)                    </span>┃<span style=\"font-weight: bold\"> Output Shape           </span>┃<span style=\"font-weight: bold\">       Param # </span>┃\n",
       "┡━━━━━━━━━━━━━━━━━━━━━━━━━━━━━━━━━╇━━━━━━━━━━━━━━━━━━━━━━━━╇━━━━━━━━━━━━━━━┩\n",
       "│ embedding (<span style=\"color: #0087ff; text-decoration-color: #0087ff\">Embedding</span>)           │ (<span style=\"color: #00d7ff; text-decoration-color: #00d7ff\">None</span>, <span style=\"color: #00af00; text-decoration-color: #00af00\">200</span>, <span style=\"color: #00af00; text-decoration-color: #00af00\">50</span>)        │         <span style=\"color: #00af00; text-decoration-color: #00af00\">3,600</span> │\n",
       "├─────────────────────────────────┼────────────────────────┼───────────────┤\n",
       "│ conv1d (<span style=\"color: #0087ff; text-decoration-color: #0087ff\">Conv1D</span>)                 │ (<span style=\"color: #00d7ff; text-decoration-color: #00d7ff\">None</span>, <span style=\"color: #00af00; text-decoration-color: #00af00\">198</span>, <span style=\"color: #00af00; text-decoration-color: #00af00\">128</span>)       │        <span style=\"color: #00af00; text-decoration-color: #00af00\">19,328</span> │\n",
       "├─────────────────────────────────┼────────────────────────┼───────────────┤\n",
       "│ max_pooling1d (<span style=\"color: #0087ff; text-decoration-color: #0087ff\">MaxPooling1D</span>)    │ (<span style=\"color: #00d7ff; text-decoration-color: #00d7ff\">None</span>, <span style=\"color: #00af00; text-decoration-color: #00af00\">66</span>, <span style=\"color: #00af00; text-decoration-color: #00af00\">128</span>)        │             <span style=\"color: #00af00; text-decoration-color: #00af00\">0</span> │\n",
       "├─────────────────────────────────┼────────────────────────┼───────────────┤\n",
       "│ dropout (<span style=\"color: #0087ff; text-decoration-color: #0087ff\">Dropout</span>)               │ (<span style=\"color: #00d7ff; text-decoration-color: #00d7ff\">None</span>, <span style=\"color: #00af00; text-decoration-color: #00af00\">66</span>, <span style=\"color: #00af00; text-decoration-color: #00af00\">128</span>)        │             <span style=\"color: #00af00; text-decoration-color: #00af00\">0</span> │\n",
       "├─────────────────────────────────┼────────────────────────┼───────────────┤\n",
       "│ conv1d_1 (<span style=\"color: #0087ff; text-decoration-color: #0087ff\">Conv1D</span>)               │ (<span style=\"color: #00d7ff; text-decoration-color: #00d7ff\">None</span>, <span style=\"color: #00af00; text-decoration-color: #00af00\">66</span>, <span style=\"color: #00af00; text-decoration-color: #00af00\">128</span>)        │       <span style=\"color: #00af00; text-decoration-color: #00af00\">114,816</span> │\n",
       "├─────────────────────────────────┼────────────────────────┼───────────────┤\n",
       "│ dropout_1 (<span style=\"color: #0087ff; text-decoration-color: #0087ff\">Dropout</span>)             │ (<span style=\"color: #00d7ff; text-decoration-color: #00d7ff\">None</span>, <span style=\"color: #00af00; text-decoration-color: #00af00\">66</span>, <span style=\"color: #00af00; text-decoration-color: #00af00\">128</span>)        │             <span style=\"color: #00af00; text-decoration-color: #00af00\">0</span> │\n",
       "├─────────────────────────────────┼────────────────────────┼───────────────┤\n",
       "│ conv1d_2 (<span style=\"color: #0087ff; text-decoration-color: #0087ff\">Conv1D</span>)               │ (<span style=\"color: #00d7ff; text-decoration-color: #00d7ff\">None</span>, <span style=\"color: #00af00; text-decoration-color: #00af00\">66</span>, <span style=\"color: #00af00; text-decoration-color: #00af00\">128</span>)        │        <span style=\"color: #00af00; text-decoration-color: #00af00\">82,048</span> │\n",
       "├─────────────────────────────────┼────────────────────────┼───────────────┤\n",
       "│ dropout_2 (<span style=\"color: #0087ff; text-decoration-color: #0087ff\">Dropout</span>)             │ (<span style=\"color: #00d7ff; text-decoration-color: #00d7ff\">None</span>, <span style=\"color: #00af00; text-decoration-color: #00af00\">66</span>, <span style=\"color: #00af00; text-decoration-color: #00af00\">128</span>)        │             <span style=\"color: #00af00; text-decoration-color: #00af00\">0</span> │\n",
       "├─────────────────────────────────┼────────────────────────┼───────────────┤\n",
       "│ conv1d_3 (<span style=\"color: #0087ff; text-decoration-color: #0087ff\">Conv1D</span>)               │ (<span style=\"color: #00d7ff; text-decoration-color: #00d7ff\">None</span>, <span style=\"color: #00af00; text-decoration-color: #00af00\">66</span>, <span style=\"color: #00af00; text-decoration-color: #00af00\">128</span>)        │        <span style=\"color: #00af00; text-decoration-color: #00af00\">49,280</span> │\n",
       "├─────────────────────────────────┼────────────────────────┼───────────────┤\n",
       "│ max_pooling1d_1 (<span style=\"color: #0087ff; text-decoration-color: #0087ff\">MaxPooling1D</span>)  │ (<span style=\"color: #00d7ff; text-decoration-color: #00d7ff\">None</span>, <span style=\"color: #00af00; text-decoration-color: #00af00\">22</span>, <span style=\"color: #00af00; text-decoration-color: #00af00\">128</span>)        │             <span style=\"color: #00af00; text-decoration-color: #00af00\">0</span> │\n",
       "├─────────────────────────────────┼────────────────────────┼───────────────┤\n",
       "│ dropout_3 (<span style=\"color: #0087ff; text-decoration-color: #0087ff\">Dropout</span>)             │ (<span style=\"color: #00d7ff; text-decoration-color: #00d7ff\">None</span>, <span style=\"color: #00af00; text-decoration-color: #00af00\">22</span>, <span style=\"color: #00af00; text-decoration-color: #00af00\">128</span>)        │             <span style=\"color: #00af00; text-decoration-color: #00af00\">0</span> │\n",
       "├─────────────────────────────────┼────────────────────────┼───────────────┤\n",
       "│ conv1d_4 (<span style=\"color: #0087ff; text-decoration-color: #0087ff\">Conv1D</span>)               │ (<span style=\"color: #00d7ff; text-decoration-color: #00d7ff\">None</span>, <span style=\"color: #00af00; text-decoration-color: #00af00\">22</span>, <span style=\"color: #00af00; text-decoration-color: #00af00\">128</span>)        │        <span style=\"color: #00af00; text-decoration-color: #00af00\">82,048</span> │\n",
       "├─────────────────────────────────┼────────────────────────┼───────────────┤\n",
       "│ dropout_4 (<span style=\"color: #0087ff; text-decoration-color: #0087ff\">Dropout</span>)             │ (<span style=\"color: #00d7ff; text-decoration-color: #00d7ff\">None</span>, <span style=\"color: #00af00; text-decoration-color: #00af00\">22</span>, <span style=\"color: #00af00; text-decoration-color: #00af00\">128</span>)        │             <span style=\"color: #00af00; text-decoration-color: #00af00\">0</span> │\n",
       "├─────────────────────────────────┼────────────────────────┼───────────────┤\n",
       "│ conv1d_5 (<span style=\"color: #0087ff; text-decoration-color: #0087ff\">Conv1D</span>)               │ (<span style=\"color: #00d7ff; text-decoration-color: #00d7ff\">None</span>, <span style=\"color: #00af00; text-decoration-color: #00af00\">22</span>, <span style=\"color: #00af00; text-decoration-color: #00af00\">128</span>)        │        <span style=\"color: #00af00; text-decoration-color: #00af00\">49,280</span> │\n",
       "├─────────────────────────────────┼────────────────────────┼───────────────┤\n",
       "│ max_pooling1d_2 (<span style=\"color: #0087ff; text-decoration-color: #0087ff\">MaxPooling1D</span>)  │ (<span style=\"color: #00d7ff; text-decoration-color: #00d7ff\">None</span>, <span style=\"color: #00af00; text-decoration-color: #00af00\">7</span>, <span style=\"color: #00af00; text-decoration-color: #00af00\">128</span>)         │             <span style=\"color: #00af00; text-decoration-color: #00af00\">0</span> │\n",
       "├─────────────────────────────────┼────────────────────────┼───────────────┤\n",
       "│ dropout_5 (<span style=\"color: #0087ff; text-decoration-color: #0087ff\">Dropout</span>)             │ (<span style=\"color: #00d7ff; text-decoration-color: #00d7ff\">None</span>, <span style=\"color: #00af00; text-decoration-color: #00af00\">7</span>, <span style=\"color: #00af00; text-decoration-color: #00af00\">128</span>)         │             <span style=\"color: #00af00; text-decoration-color: #00af00\">0</span> │\n",
       "├─────────────────────────────────┼────────────────────────┼───────────────┤\n",
       "│ conv1d_6 (<span style=\"color: #0087ff; text-decoration-color: #0087ff\">Conv1D</span>)               │ (<span style=\"color: #00d7ff; text-decoration-color: #00d7ff\">None</span>, <span style=\"color: #00af00; text-decoration-color: #00af00\">7</span>, <span style=\"color: #00af00; text-decoration-color: #00af00\">128</span>)         │        <span style=\"color: #00af00; text-decoration-color: #00af00\">49,280</span> │\n",
       "├─────────────────────────────────┼────────────────────────┼───────────────┤\n",
       "│ max_pooling1d_3 (<span style=\"color: #0087ff; text-decoration-color: #0087ff\">MaxPooling1D</span>)  │ (<span style=\"color: #00d7ff; text-decoration-color: #00d7ff\">None</span>, <span style=\"color: #00af00; text-decoration-color: #00af00\">2</span>, <span style=\"color: #00af00; text-decoration-color: #00af00\">128</span>)         │             <span style=\"color: #00af00; text-decoration-color: #00af00\">0</span> │\n",
       "├─────────────────────────────────┼────────────────────────┼───────────────┤\n",
       "│ dropout_6 (<span style=\"color: #0087ff; text-decoration-color: #0087ff\">Dropout</span>)             │ (<span style=\"color: #00d7ff; text-decoration-color: #00d7ff\">None</span>, <span style=\"color: #00af00; text-decoration-color: #00af00\">2</span>, <span style=\"color: #00af00; text-decoration-color: #00af00\">128</span>)         │             <span style=\"color: #00af00; text-decoration-color: #00af00\">0</span> │\n",
       "├─────────────────────────────────┼────────────────────────┼───────────────┤\n",
       "│ flatten (<span style=\"color: #0087ff; text-decoration-color: #0087ff\">Flatten</span>)               │ (<span style=\"color: #00d7ff; text-decoration-color: #00d7ff\">None</span>, <span style=\"color: #00af00; text-decoration-color: #00af00\">256</span>)            │             <span style=\"color: #00af00; text-decoration-color: #00af00\">0</span> │\n",
       "├─────────────────────────────────┼────────────────────────┼───────────────┤\n",
       "│ dense (<span style=\"color: #0087ff; text-decoration-color: #0087ff\">Dense</span>)                   │ (<span style=\"color: #00d7ff; text-decoration-color: #00d7ff\">None</span>, <span style=\"color: #00af00; text-decoration-color: #00af00\">1</span>)              │           <span style=\"color: #00af00; text-decoration-color: #00af00\">257</span> │\n",
       "└─────────────────────────────────┴────────────────────────┴───────────────┘\n",
       "</pre>\n"
      ],
      "text/plain": [
       "┏━━━━━━━━━━━━━━━━━━━━━━━━━━━━━━━━━┳━━━━━━━━━━━━━━━━━━━━━━━━┳━━━━━━━━━━━━━━━┓\n",
       "┃\u001b[1m \u001b[0m\u001b[1mLayer (type)                   \u001b[0m\u001b[1m \u001b[0m┃\u001b[1m \u001b[0m\u001b[1mOutput Shape          \u001b[0m\u001b[1m \u001b[0m┃\u001b[1m \u001b[0m\u001b[1m      Param #\u001b[0m\u001b[1m \u001b[0m┃\n",
       "┡━━━━━━━━━━━━━━━━━━━━━━━━━━━━━━━━━╇━━━━━━━━━━━━━━━━━━━━━━━━╇━━━━━━━━━━━━━━━┩\n",
       "│ embedding (\u001b[38;5;33mEmbedding\u001b[0m)           │ (\u001b[38;5;45mNone\u001b[0m, \u001b[38;5;34m200\u001b[0m, \u001b[38;5;34m50\u001b[0m)        │         \u001b[38;5;34m3,600\u001b[0m │\n",
       "├─────────────────────────────────┼────────────────────────┼───────────────┤\n",
       "│ conv1d (\u001b[38;5;33mConv1D\u001b[0m)                 │ (\u001b[38;5;45mNone\u001b[0m, \u001b[38;5;34m198\u001b[0m, \u001b[38;5;34m128\u001b[0m)       │        \u001b[38;5;34m19,328\u001b[0m │\n",
       "├─────────────────────────────────┼────────────────────────┼───────────────┤\n",
       "│ max_pooling1d (\u001b[38;5;33mMaxPooling1D\u001b[0m)    │ (\u001b[38;5;45mNone\u001b[0m, \u001b[38;5;34m66\u001b[0m, \u001b[38;5;34m128\u001b[0m)        │             \u001b[38;5;34m0\u001b[0m │\n",
       "├─────────────────────────────────┼────────────────────────┼───────────────┤\n",
       "│ dropout (\u001b[38;5;33mDropout\u001b[0m)               │ (\u001b[38;5;45mNone\u001b[0m, \u001b[38;5;34m66\u001b[0m, \u001b[38;5;34m128\u001b[0m)        │             \u001b[38;5;34m0\u001b[0m │\n",
       "├─────────────────────────────────┼────────────────────────┼───────────────┤\n",
       "│ conv1d_1 (\u001b[38;5;33mConv1D\u001b[0m)               │ (\u001b[38;5;45mNone\u001b[0m, \u001b[38;5;34m66\u001b[0m, \u001b[38;5;34m128\u001b[0m)        │       \u001b[38;5;34m114,816\u001b[0m │\n",
       "├─────────────────────────────────┼────────────────────────┼───────────────┤\n",
       "│ dropout_1 (\u001b[38;5;33mDropout\u001b[0m)             │ (\u001b[38;5;45mNone\u001b[0m, \u001b[38;5;34m66\u001b[0m, \u001b[38;5;34m128\u001b[0m)        │             \u001b[38;5;34m0\u001b[0m │\n",
       "├─────────────────────────────────┼────────────────────────┼───────────────┤\n",
       "│ conv1d_2 (\u001b[38;5;33mConv1D\u001b[0m)               │ (\u001b[38;5;45mNone\u001b[0m, \u001b[38;5;34m66\u001b[0m, \u001b[38;5;34m128\u001b[0m)        │        \u001b[38;5;34m82,048\u001b[0m │\n",
       "├─────────────────────────────────┼────────────────────────┼───────────────┤\n",
       "│ dropout_2 (\u001b[38;5;33mDropout\u001b[0m)             │ (\u001b[38;5;45mNone\u001b[0m, \u001b[38;5;34m66\u001b[0m, \u001b[38;5;34m128\u001b[0m)        │             \u001b[38;5;34m0\u001b[0m │\n",
       "├─────────────────────────────────┼────────────────────────┼───────────────┤\n",
       "│ conv1d_3 (\u001b[38;5;33mConv1D\u001b[0m)               │ (\u001b[38;5;45mNone\u001b[0m, \u001b[38;5;34m66\u001b[0m, \u001b[38;5;34m128\u001b[0m)        │        \u001b[38;5;34m49,280\u001b[0m │\n",
       "├─────────────────────────────────┼────────────────────────┼───────────────┤\n",
       "│ max_pooling1d_1 (\u001b[38;5;33mMaxPooling1D\u001b[0m)  │ (\u001b[38;5;45mNone\u001b[0m, \u001b[38;5;34m22\u001b[0m, \u001b[38;5;34m128\u001b[0m)        │             \u001b[38;5;34m0\u001b[0m │\n",
       "├─────────────────────────────────┼────────────────────────┼───────────────┤\n",
       "│ dropout_3 (\u001b[38;5;33mDropout\u001b[0m)             │ (\u001b[38;5;45mNone\u001b[0m, \u001b[38;5;34m22\u001b[0m, \u001b[38;5;34m128\u001b[0m)        │             \u001b[38;5;34m0\u001b[0m │\n",
       "├─────────────────────────────────┼────────────────────────┼───────────────┤\n",
       "│ conv1d_4 (\u001b[38;5;33mConv1D\u001b[0m)               │ (\u001b[38;5;45mNone\u001b[0m, \u001b[38;5;34m22\u001b[0m, \u001b[38;5;34m128\u001b[0m)        │        \u001b[38;5;34m82,048\u001b[0m │\n",
       "├─────────────────────────────────┼────────────────────────┼───────────────┤\n",
       "│ dropout_4 (\u001b[38;5;33mDropout\u001b[0m)             │ (\u001b[38;5;45mNone\u001b[0m, \u001b[38;5;34m22\u001b[0m, \u001b[38;5;34m128\u001b[0m)        │             \u001b[38;5;34m0\u001b[0m │\n",
       "├─────────────────────────────────┼────────────────────────┼───────────────┤\n",
       "│ conv1d_5 (\u001b[38;5;33mConv1D\u001b[0m)               │ (\u001b[38;5;45mNone\u001b[0m, \u001b[38;5;34m22\u001b[0m, \u001b[38;5;34m128\u001b[0m)        │        \u001b[38;5;34m49,280\u001b[0m │\n",
       "├─────────────────────────────────┼────────────────────────┼───────────────┤\n",
       "│ max_pooling1d_2 (\u001b[38;5;33mMaxPooling1D\u001b[0m)  │ (\u001b[38;5;45mNone\u001b[0m, \u001b[38;5;34m7\u001b[0m, \u001b[38;5;34m128\u001b[0m)         │             \u001b[38;5;34m0\u001b[0m │\n",
       "├─────────────────────────────────┼────────────────────────┼───────────────┤\n",
       "│ dropout_5 (\u001b[38;5;33mDropout\u001b[0m)             │ (\u001b[38;5;45mNone\u001b[0m, \u001b[38;5;34m7\u001b[0m, \u001b[38;5;34m128\u001b[0m)         │             \u001b[38;5;34m0\u001b[0m │\n",
       "├─────────────────────────────────┼────────────────────────┼───────────────┤\n",
       "│ conv1d_6 (\u001b[38;5;33mConv1D\u001b[0m)               │ (\u001b[38;5;45mNone\u001b[0m, \u001b[38;5;34m7\u001b[0m, \u001b[38;5;34m128\u001b[0m)         │        \u001b[38;5;34m49,280\u001b[0m │\n",
       "├─────────────────────────────────┼────────────────────────┼───────────────┤\n",
       "│ max_pooling1d_3 (\u001b[38;5;33mMaxPooling1D\u001b[0m)  │ (\u001b[38;5;45mNone\u001b[0m, \u001b[38;5;34m2\u001b[0m, \u001b[38;5;34m128\u001b[0m)         │             \u001b[38;5;34m0\u001b[0m │\n",
       "├─────────────────────────────────┼────────────────────────┼───────────────┤\n",
       "│ dropout_6 (\u001b[38;5;33mDropout\u001b[0m)             │ (\u001b[38;5;45mNone\u001b[0m, \u001b[38;5;34m2\u001b[0m, \u001b[38;5;34m128\u001b[0m)         │             \u001b[38;5;34m0\u001b[0m │\n",
       "├─────────────────────────────────┼────────────────────────┼───────────────┤\n",
       "│ flatten (\u001b[38;5;33mFlatten\u001b[0m)               │ (\u001b[38;5;45mNone\u001b[0m, \u001b[38;5;34m256\u001b[0m)            │             \u001b[38;5;34m0\u001b[0m │\n",
       "├─────────────────────────────────┼────────────────────────┼───────────────┤\n",
       "│ dense (\u001b[38;5;33mDense\u001b[0m)                   │ (\u001b[38;5;45mNone\u001b[0m, \u001b[38;5;34m1\u001b[0m)              │           \u001b[38;5;34m257\u001b[0m │\n",
       "└─────────────────────────────────┴────────────────────────┴───────────────┘\n"
      ]
     },
     "metadata": {},
     "output_type": "display_data"
    },
    {
     "data": {
      "text/html": [
       "<pre style=\"white-space:pre;overflow-x:auto;line-height:normal;font-family:Menlo,'DejaVu Sans Mono',consolas,'Courier New',monospace\"><span style=\"font-weight: bold\"> Total params: </span><span style=\"color: #00af00; text-decoration-color: #00af00\">1,349,813</span> (5.15 MB)\n",
       "</pre>\n"
      ],
      "text/plain": [
       "\u001b[1m Total params: \u001b[0m\u001b[38;5;34m1,349,813\u001b[0m (5.15 MB)\n"
      ]
     },
     "metadata": {},
     "output_type": "display_data"
    },
    {
     "data": {
      "text/html": [
       "<pre style=\"white-space:pre;overflow-x:auto;line-height:normal;font-family:Menlo,'DejaVu Sans Mono',consolas,'Courier New',monospace\"><span style=\"font-weight: bold\"> Trainable params: </span><span style=\"color: #00af00; text-decoration-color: #00af00\">449,937</span> (1.72 MB)\n",
       "</pre>\n"
      ],
      "text/plain": [
       "\u001b[1m Trainable params: \u001b[0m\u001b[38;5;34m449,937\u001b[0m (1.72 MB)\n"
      ]
     },
     "metadata": {},
     "output_type": "display_data"
    },
    {
     "data": {
      "text/html": [
       "<pre style=\"white-space:pre;overflow-x:auto;line-height:normal;font-family:Menlo,'DejaVu Sans Mono',consolas,'Courier New',monospace\"><span style=\"font-weight: bold\"> Non-trainable params: </span><span style=\"color: #00af00; text-decoration-color: #00af00\">0</span> (0.00 B)\n",
       "</pre>\n"
      ],
      "text/plain": [
       "\u001b[1m Non-trainable params: \u001b[0m\u001b[38;5;34m0\u001b[0m (0.00 B)\n"
      ]
     },
     "metadata": {},
     "output_type": "display_data"
    },
    {
     "data": {
      "text/html": [
       "<pre style=\"white-space:pre;overflow-x:auto;line-height:normal;font-family:Menlo,'DejaVu Sans Mono',consolas,'Courier New',monospace\"><span style=\"font-weight: bold\"> Optimizer params: </span><span style=\"color: #00af00; text-decoration-color: #00af00\">899,876</span> (3.43 MB)\n",
       "</pre>\n"
      ],
      "text/plain": [
       "\u001b[1m Optimizer params: \u001b[0m\u001b[38;5;34m899,876\u001b[0m (3.43 MB)\n"
      ]
     },
     "metadata": {},
     "output_type": "display_data"
    }
   ],
   "source": [
    "model.summary()"
   ]
  },
  {
   "cell_type": "markdown",
   "id": "d9419379",
   "metadata": {
    "papermill": {
     "duration": 0.600888,
     "end_time": "2024-04-21T15:28:01.805441",
     "exception": false,
     "start_time": "2024-04-21T15:28:01.204553",
     "status": "completed"
    },
    "tags": []
   },
   "source": [
    "**Prediction**"
   ]
  },
  {
   "cell_type": "code",
   "execution_count": 8,
   "id": "82e5c24c",
   "metadata": {
    "execution": {
     "iopub.execute_input": "2024-04-21T15:28:02.873378Z",
     "iopub.status.busy": "2024-04-21T15:28:02.872997Z",
     "iopub.status.idle": "2024-04-21T15:28:13.629461Z",
     "shell.execute_reply": "2024-04-21T15:28:13.628397Z"
    },
    "papermill": {
     "duration": 11.288236,
     "end_time": "2024-04-21T15:28:13.631928",
     "exception": false,
     "start_time": "2024-04-21T15:28:02.343692",
     "status": "completed"
    },
    "tags": []
   },
   "outputs": [
    {
     "name": "stdout",
     "output_type": "stream",
     "text": [
      "\u001b[1m365/365\u001b[0m \u001b[32m━━━━━━━━━━━━━━━━━━━━\u001b[0m\u001b[37m\u001b[0m \u001b[1m10s\u001b[0m 20ms/step\n",
      "[[4.2069671e-04]\n",
      " [9.9975711e-01]\n",
      " [9.9898130e-01]\n",
      " ...\n",
      " [3.8544319e-04]\n",
      " [9.9557447e-01]\n",
      " [9.9504691e-01]]\n"
     ]
    }
   ],
   "source": [
    "y_pred = model.predict(x_test, batch_size=1000)\n",
    "print(y_pred)\n",
    "\n"
   ]
  },
  {
   "cell_type": "markdown",
   "id": "687c2f5b",
   "metadata": {
    "papermill": {
     "duration": 0.565077,
     "end_time": "2024-04-21T15:28:14.745383",
     "exception": false,
     "start_time": "2024-04-21T15:28:14.180306",
     "status": "completed"
    },
    "tags": []
   },
   "source": [
    "**Prediction**"
   ]
  },
  {
   "cell_type": "code",
   "execution_count": 9,
   "id": "5ec396e7",
   "metadata": {
    "execution": {
     "iopub.execute_input": "2024-04-21T15:28:15.920780Z",
     "iopub.status.busy": "2024-04-21T15:28:15.920371Z",
     "iopub.status.idle": "2024-04-21T15:28:16.165493Z",
     "shell.execute_reply": "2024-04-21T15:28:16.164306Z"
    },
    "papermill": {
     "duration": 0.819018,
     "end_time": "2024-04-21T15:28:16.167830",
     "exception": false,
     "start_time": "2024-04-21T15:28:15.348812",
     "status": "completed"
    },
    "tags": []
   },
   "outputs": [
    {
     "name": "stdout",
     "output_type": "stream",
     "text": [
      "Classification Report:\n",
      "              precision    recall  f1-score   support\n",
      "\n",
      "           0       0.98      0.99      0.98    201736\n",
      "           1       0.99      0.97      0.98    162463\n",
      "\n",
      "    accuracy                           0.98    364199\n",
      "   macro avg       0.98      0.98      0.98    364199\n",
      "weighted avg       0.98      0.98      0.98    364199\n",
      "\n",
      "Confusion Matrix: [[199597   2139]\n",
      " [  4224 158239]]\n",
      "Accuracy: 0.9825287823415221\n"
     ]
    }
   ],
   "source": [
    "from sklearn.metrics import classification_report, confusion_matrix,accuracy_score\n",
    "\n",
    "# Convert predicted probabilities to binary labels\n",
    "y_pred_binary = (np.array(y_pred) > 0.5).astype(int)\n",
    "y_test=y_test.reshape(-1,1)\n",
    "\n",
    "# Calculate classification report\n",
    "report = classification_report(y_test, y_pred_binary)\n",
    "print('Classification Report:')\n",
    "print(report)\n",
    "\n",
    "# Calculate confusion matrix\n",
    "confusion_mat = confusion_matrix(y_test, y_pred_binary)\n",
    "print('Confusion Matrix:', confusion_mat)\n",
    "print('Accuracy:',accuracy_score(y_test,y_pred_binary))"
   ]
  },
  {
   "cell_type": "markdown",
   "id": "3f9a7b4c",
   "metadata": {
    "papermill": {
     "duration": 0.606938,
     "end_time": "2024-04-21T15:28:17.370722",
     "exception": false,
     "start_time": "2024-04-21T15:28:16.763784",
     "status": "completed"
    },
    "tags": []
   },
   "source": [
    "**Confusion Matrix **"
   ]
  },
  {
   "cell_type": "code",
   "execution_count": 10,
   "id": "bee2ab6c",
   "metadata": {
    "execution": {
     "iopub.execute_input": "2024-04-21T15:28:18.481296Z",
     "iopub.status.busy": "2024-04-21T15:28:18.480882Z",
     "iopub.status.idle": "2024-04-21T15:28:19.173931Z",
     "shell.execute_reply": "2024-04-21T15:28:19.172940Z"
    },
    "papermill": {
     "duration": 1.261643,
     "end_time": "2024-04-21T15:28:19.176005",
     "exception": false,
     "start_time": "2024-04-21T15:28:17.914362",
     "status": "completed"
    },
    "tags": []
   },
   "outputs": [
    {
     "data": {
      "text/plain": [
       "<Axes: >"
      ]
     },
     "execution_count": 10,
     "metadata": {},
     "output_type": "execute_result"
    },
    {
     "data": {
      "image/png": "[encoded data removed]",
      "text/plain": [
       "<Figure size 640x480 with 2 Axes>"
      ]
     },
     "metadata": {},
     "output_type": "display_data"
    }
   ],
   "source": [
    "import seaborn as sns\n",
    "sns.heatmap(confusion_mat,annot=True)"
   ]
  }
 ],
 "metadata": {
  "kaggle": {
   "accelerator": "nvidiaTeslaT4",
   "dataSources": [
    {
     "datasetId": 4696964,
     "sourceId": 7980464,
     "sourceType": "datasetVersion"
    }
   ],
   "isGpuEnabled": true,
   "isInternetEnabled": false,
   "language": "python",
   "sourceType": "notebook"
  },
  "kernelspec": {
   "display_name": "Python 3",
   "language": "python",
   "name": "python3"
  },
  "language_info": {
   "codemirror_mode": {
    "name": "ipython",
    "version": 3
   },
   "file_extension": ".py",
   "mimetype": "text/x-python",
   "name": "python",
   "nbconvert_exporter": "python",
   "pygments_lexer": "ipython3",
   "version": "3.10.13"
  },
  "papermill": {
   "default_parameters": {},
   "duration": 2683.121228,
   "end_time": "2024-04-21T15:28:23.491821",
   "environment_variables": {},
   "exception": null,
   "input_path": "__notebook__.ipynb",
   "output_path": "__notebook__.ipynb",
   "parameters": {},
   "start_time": "2024-04-21T14:43:40.370593",
   "version": "2.5.0"
  }
 },
 "nbformat": 4,
 "nbformat_minor": 5
}
